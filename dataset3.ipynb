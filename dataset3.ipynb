{
 "cells": [
  {
   "cell_type": "markdown",
   "id": "be554dd9",
   "metadata": {},
   "source": [
    "# DATASET 3"
   ]
  },
  {
   "cell_type": "markdown",
   "id": "454d07b3",
   "metadata": {},
   "source": []
  }
 ],
 "metadata": {
  "language_info": {
   "name": "python"
  }
 },
 "nbformat": 4,
 "nbformat_minor": 5
}
